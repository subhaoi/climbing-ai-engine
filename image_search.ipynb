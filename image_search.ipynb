{
 "cells": [
  {
   "cell_type": "code",
   "execution_count": 1,
   "metadata": {},
   "outputs": [],
   "source": [
    "import click\n",
    "import requests\n",
    "from io import BytesIO\n",
    "from pathlib import Path\n",
    "import pickle\n",
    "from PIL import Image as pil_img\n",
    "import numpy as np\n",
    "from fastai.vision.data import ImageDataBunch\n",
    "from fastai.vision.transform import get_transforms\n",
    "from fastai.vision.learner import create_cnn\n",
    "from fastai.vision import models\n",
    "from fastai.vision.image import pil2tensor, Image\n",
    "import matplotlib\n",
    "import matplotlib.pyplot as plt\n",
    "import cv2\n",
    "from imutils import resize"
   ]
  },
  {
   "cell_type": "code",
   "execution_count": null,
   "metadata": {},
   "outputs": [],
   "source": []
  }
 ],
 "metadata": {
  "kernelspec": {
   "display_name": "Python 3",
   "language": "python",
   "name": "python3"
  },
  "language_info": {
   "codemirror_mode": {
    "name": "ipython",
    "version": 3
   },
   "file_extension": ".py",
   "mimetype": "text/x-python",
   "name": "python",
   "nbconvert_exporter": "python",
   "pygments_lexer": "ipython3",
   "version": "3.7.6"
  }
 },
 "nbformat": 4,
 "nbformat_minor": 4
}
